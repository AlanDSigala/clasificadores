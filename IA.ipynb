{
  "nbformat": 4,
  "nbformat_minor": 0,
  "metadata": {
    "colab": {
      "provenance": [],
      "authorship_tag": "ABX9TyPOQ9k/7ZNTh8bLS/K95RSj",
      "include_colab_link": true
    },
    "kernelspec": {
      "name": "python3",
      "display_name": "Python 3"
    },
    "language_info": {
      "name": "python"
    }
  },
  "cells": [
    {
      "cell_type": "markdown",
      "metadata": {
        "id": "view-in-github",
        "colab_type": "text"
      },
      "source": [
        "<a href=\"https://colab.research.google.com/github/AlanDSigala/clasificadores/blob/main/IA.ipynb\" target=\"_parent\"><img src=\"https://colab.research.google.com/assets/colab-badge.svg\" alt=\"Open In Colab\"/></a>"
      ]
    },
    {
      "cell_type": "markdown",
      "source": [
        "Alan Daniel Sigala Morales\n",
        "\n",
        "Diego Fernando Badillo Vega\n",
        "\n",
        "Luis Felipe Tarelo Ramírez\n",
        "\n",
        "Irving Rodriguez Rodriguez\n",
        "\n",
        "Moreno Camargo Raúl Alejandro"
      ],
      "metadata": {
        "id": "D6-g7UzVd15_"
      }
    },
    {
      "cell_type": "markdown",
      "source": [
        "IRIS, WINE 1-NN, K-NN HoldOut\n"
      ],
      "metadata": {
        "id": "RwFCmdQSgY-R"
      }
    },
    {
      "cell_type": "code",
      "execution_count": null,
      "metadata": {
        "colab": {
          "base_uri": "https://localhost:8080/",
          "height": 637
        },
        "id": "qbLxIdK1ax3x",
        "outputId": "7a1dd502-dc08-496e-be37-4759221e048c"
      },
      "outputs": [
        {
          "output_type": "stream",
          "name": "stdout",
          "text": [
            "Matriz de Confusión:\n",
            "[[ 59   4]\n",
            " [  2 106]]\n"
          ]
        },
        {
          "output_type": "display_data",
          "data": {
            "text/plain": [
              "<Figure size 800x600 with 1 Axes>"
            ],
            "image/png": "[encoded data removed]"
          },
          "metadata": {}
        },
        {
          "output_type": "stream",
          "name": "stdout",
          "text": [
            "Precisión del modelo: 0.96\n"
          ]
        }
      ],
      "source": [
        "from sklearn.metrics import confusion_matrix, accuracy_score\n",
        "from sklearn.model_selection import train_test_split, cross_val_score, KFold\n",
        "from sklearn.datasets import load_iris, load_breast_cancer, load_wine\n",
        "from sklearn.neighbors import KNeighborsClassifier\n",
        "import matplotlib.pyplot as plt\n",
        "import seaborn as sns\n",
        "\n",
        "#conjunto de datos\n",
        "'''iris = load_iris()\n",
        "X = iris.data\n",
        "y = iris.target'''\n",
        "\n",
        "'''wine =load_wine()\n",
        "X = wine.data\n",
        "y = wine.target'''\n",
        "\n",
        "cancer =load_breast_cancer()\n",
        "X = cancer.data\n",
        "y = cancer.target\n",
        "#conjuntos de entrenamiento y prueba\n",
        "X_train, X_test, y_train, y_test = train_test_split(X, y, test_size=0.3, random_state=42)\n",
        "\n",
        "#clasificador k-NN\n",
        "model = KNeighborsClassifier(n_neighbors=7)\n",
        "model.fit(X_train, y_train)\n",
        "y_pred = model.predict(X_test)\n",
        "\n",
        "\n",
        "# Calcular y mostrar la matriz de confusión\n",
        "conf_matrix = confusion_matrix(y_test, y_pred)\n",
        "print(\"Matriz de Confusión:\")\n",
        "print(conf_matrix)\n",
        "\n",
        "\n",
        "plt.figure(figsize=(8, 6))\n",
        "sns.heatmap(conf_matrix, annot=True, fmt=\"d\", cmap=\"Blues\", cbar=False,\n",
        "            xticklabels=model.classes_, yticklabels=model.classes_)\n",
        "plt.xlabel('Predicciones')\n",
        "plt.ylabel('Valores reales')\n",
        "plt.title('Matriz de Confusión')\n",
        "plt.show()\n",
        "\n",
        "# Evaluar el modelo en el conjunto de prueba\n",
        "accuracy = accuracy_score(y_test, y_pred)\n",
        "print(f\"Precisión del modelo: {accuracy:.2f}\")\n"
      ]
    },
    {
      "cell_type": "markdown",
      "source": [
        "IRIS, WINE Naive-Bayes HoldOut"
      ],
      "metadata": {
        "id": "sSvaZ8fwgp17"
      }
    },
    {
      "cell_type": "code",
      "source": [
        "from sklearn.metrics import confusion_matrix, accuracy_score\n",
        "from sklearn.model_selection import train_test_split, cross_val_score, KFold\n",
        "from sklearn.datasets import load_iris, load_breast_cancer, load_wine\n",
        "from sklearn.naive_bayes import GaussianNB\n",
        "import matplotlib.pyplot as plt\n",
        "import seaborn as sns\n",
        "\n",
        "#conjunto de datos\n",
        "'''iris = load_iris()\n",
        "X = iris.data\n",
        "y = iris.target'''\n",
        "\n",
        "'''wine =load_wine()\n",
        "X = wine.data\n",
        "y = wine.target'''\n",
        "\n",
        "cancer =load_breast_cancer()\n",
        "X = cancer.data\n",
        "y = cancer.target\n",
        "\n",
        "#conjuntos de entrenamiento y prueba\n",
        "X_train, X_test, y_train, y_test = train_test_split(X, y, test_size=0.3, random_state=42)\n",
        "\n",
        "#clasificador k-NN\n",
        "model = GaussianNB()\n",
        "model.fit(X_train, y_train)\n",
        "y_pred = model.predict(X_test)\n",
        "\n",
        "\n",
        "# Calcular y mostrar la matriz de confusión\n",
        "conf_matrix = confusion_matrix(y_test, y_pred)\n",
        "print(\"Matriz de Confusión:\")\n",
        "print(conf_matrix)\n",
        "\n",
        "\n",
        "plt.figure(figsize=(8, 6))\n",
        "sns.heatmap(conf_matrix, annot=True, fmt=\"d\", cmap=\"Blues\", cbar=False,\n",
        "            xticklabels=model.classes_, yticklabels=model.classes_)\n",
        "plt.xlabel('Predicciones')\n",
        "plt.ylabel('Valores reales')\n",
        "plt.title('Matriz de Confusión')\n",
        "plt.show()\n",
        "\n",
        "# Evaluar el modelo en el conjunto de prueba\n",
        "accuracy = accuracy_score(y_test, y_pred)\n",
        "print(f\"Precisión del modelo: {accuracy:.2f}\")"
      ],
      "metadata": {
        "id": "IzCGrIU2dJPL"
      },
      "execution_count": null,
      "outputs": []
    },
    {
      "cell_type": "markdown",
      "source": [
        "IRIS, WINE K-NN 10FoldCrossValidation"
      ],
      "metadata": {
        "id": "qs8mKGH39d9I"
      }
    },
    {
      "cell_type": "code",
      "source": [
        "from sklearn.metrics import confusion_matrix, accuracy_score\n",
        "from sklearn.model_selection import cross_val_predict, KFold\n",
        "from sklearn.datasets import load_breast_cancer\n",
        "from sklearn.neighbors import KNeighborsClassifier\n",
        "import matplotlib.pyplot as plt\n",
        "import seaborn as sns\n",
        "\n",
        "# Cargar el conjunto de datos Breast Cancer\n",
        "cancer = load_breast_cancer()\n",
        "X = cancer.data\n",
        "y = cancer.target\n",
        "\n",
        "'''iris = load_iris()\n",
        "X = iris.data\n",
        "y = iris.target'''\n",
        "\n",
        "'''wine =load_wine()\n",
        "X = wine.data\n",
        "y = wine.target'''\n",
        "\n",
        "# Crear el clasificador K-NN\n",
        "model = KNeighborsClassifier(n_neighbors=11)\n",
        "\n",
        "# Especificar la estrategia de validación cruzada con 10 folds\n",
        "cv = KFold(n_splits=10, shuffle=True, random_state=42)\n",
        "\n",
        "# Realizar la validación cruzada manualmente y obtener las predicciones\n",
        "y_pred_cv = cross_val_predict(model, X, y, cv=cv)\n",
        "\n",
        "# Calcular y mostrar la matriz de confusión\n",
        "conf_matrix = confusion_matrix(y, y_pred_cv)\n",
        "\n",
        "# Obtener las clases únicas del conjunto de datos\n",
        "classes = sorted(set(y))\n",
        "\n",
        "# Visualizar la matriz de confusión con las clases obtenidas\n",
        "plt.figure(figsize=(8, 6))\n",
        "sns.heatmap(conf_matrix, annot=True, fmt=\"d\", cmap=\"Blues\", cbar=False,\n",
        "            xticklabels=classes, yticklabels=classes)\n",
        "plt.xlabel('Predicciones')\n",
        "plt.ylabel('Valores reales')\n",
        "plt.title('Matriz de Confusión')\n",
        "plt.show()\n",
        "\n",
        "# Calcular y mostrar la precisión promedio\n",
        "accuracy = accuracy_score(y, y_pred_cv)\n",
        "print(f\"Precisión promedio usando 10-fold cross validation: {accuracy:.2f}\")\n",
        "\n"
      ],
      "metadata": {
        "colab": {
          "base_uri": "https://localhost:8080/",
          "height": 582
        },
        "id": "8Ts5HQ0o3yK_",
        "outputId": "884296e3-ec39-4dec-e1c6-2c15668808ae"
      },
      "execution_count": null,
      "outputs": [
        {
          "output_type": "display_data",
          "data": {
            "text/plain": [
              "<Figure size 800x600 with 1 Axes>"
            ],
            "image/png": "[encoded data removed]"
          },
          "metadata": {}
        },
        {
          "output_type": "stream",
          "name": "stdout",
          "text": [
            "Precisión promedio usando 10-fold cross validation: 0.94\n"
          ]
        }
      ]
    },
    {
      "cell_type": "markdown",
      "source": [
        "IRIS, WINE Naive-Bayes FoldCrossValidation"
      ],
      "metadata": {
        "id": "kovTguCodexv"
      }
    },
    {
      "cell_type": "code",
      "source": [
        "from sklearn.metrics import confusion_matrix, accuracy_score\n",
        "from sklearn.model_selection import cross_val_predict, KFold\n",
        "from sklearn.datasets import load_breast_cancer\n",
        "from sklearn.neighbors import KNeighborsClassifier\n",
        "import matplotlib.pyplot as plt\n",
        "import seaborn as sns\n",
        "\n",
        "# Cargar el conjunto de datos Breast Cancer\n",
        "cancer = load_breast_cancer()\n",
        "X = cancer.data\n",
        "y = cancer.target\n",
        "\n",
        "'''iris = load_iris()\n",
        "X = iris.data\n",
        "y = iris.target'''\n",
        "\n",
        "'''wine =load_wine()\n",
        "X = wine.data\n",
        "y = wine.target'''\n",
        "\n",
        "# Crear el clasificador K-NN\n",
        "model = GaussianNB()\n",
        "\n",
        "# Especificar la estrategia de validación cruzada con 10 folds\n",
        "cv = KFold(n_splits=10, shuffle=True, random_state=42)\n",
        "\n",
        "# Realizar la validación cruzada manualmente y obtener las predicciones\n",
        "y_pred_cv = cross_val_predict(model, X, y, cv=cv)\n",
        "\n",
        "# Calcular y mostrar la matriz de confusión\n",
        "conf_matrix = confusion_matrix(y, y_pred_cv)\n",
        "\n",
        "# Obtener las clases únicas del conjunto de datos\n",
        "classes = sorted(set(y))\n",
        "\n",
        "# Visualizar la matriz de confusión con las clases obtenidas\n",
        "plt.figure(figsize=(8, 6))\n",
        "sns.heatmap(conf_matrix, annot=True, fmt=\"d\", cmap=\"Blues\", cbar=False,\n",
        "            xticklabels=classes, yticklabels=classes)\n",
        "plt.xlabel('Predicciones')\n",
        "plt.ylabel('Valores reales')\n",
        "plt.title('Matriz de Confusión')\n",
        "plt.show()\n",
        "\n",
        "# Calcular y mostrar la precisión promedio\n",
        "accuracy = accuracy_score(y, y_pred_cv)\n",
        "print(f\"Precisión promedio usando 10-fold cross validation: {accuracy:.2f}\")"
      ],
      "metadata": {
        "colab": {
          "base_uri": "https://localhost:8080/",
          "height": 582
        },
        "id": "Hg1DBBN-AVwQ",
        "outputId": "64463699-1917-4c9a-d26a-cee638efbc92"
      },
      "execution_count": null,
      "outputs": [
        {
          "output_type": "display_data",
          "data": {
            "text/plain": [
              "<Figure size 800x600 with 1 Axes>"
            ],
            "image/png": "[encoded data removed]"
          },
          "metadata": {}
        },
        {
          "output_type": "stream",
          "name": "stdout",
          "text": [
            "Precisión promedio usando 10-fold cross validation: 0.94\n"
          ]
        }
      ]
    }
  ]
}